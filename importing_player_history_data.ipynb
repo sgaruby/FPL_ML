{
 "cells": [
  {
   "cell_type": "code",
   "execution_count": 1,
   "metadata": {},
   "outputs": [],
   "source": [
    "import numpy as np\n",
    "import requests\n",
    "import pandas as pd"
   ]
  },
  {
   "cell_type": "code",
   "execution_count": 2,
   "metadata": {},
   "outputs": [],
   "source": [
    "fpl_data = requests.get('https://fantasy.premierleague.com/drf/bootstrap-static').json()\n",
    "\n",
    "for i, player in enumerate(fpl_data['elements']):\n",
    "    fpl_data['elements'][i]['history'] = requests.get('https://fantasy.premierleague.com/drf/element-summary/' + str(player['id'])).json()"
   ]
  },
  {
   "cell_type": "code",
   "execution_count": 7,
   "metadata": {},
   "outputs": [
    {
     "name": "stdout",
     "output_type": "stream",
     "text": [
      "Welbeck\n",
      "Lacazette\n",
      "Aubameyang\n",
      "Nketiah\n",
      "Wilson\n",
      "Mousset\n",
      "King\n",
      "Defoe\n",
      "Murray\n",
      "Hemed\n",
      "Baldock\n",
      "Locadia\n",
      "Andone\n",
      "Gyokeres\n",
      "Vokes\n",
      "Barnes\n",
      "Wells\n",
      "Wood\n",
      "Vydra\n",
      "Zohore\n",
      "Bogle\n",
      "Madine\n",
      "Reid\n",
      "Giroud\n",
      "Morata\n",
      "Abraham\n",
      "Zaha\n",
      "Benteke\n",
      "Sørloth\n",
      "Wickham\n",
      "Ayew\n",
      "Calvert-Lewin\n",
      "Niasse\n",
      "Tosun\n",
      "Sandro\n",
      "Kamara\n",
      "Mitrovic\n",
      "Vietto\n",
      "Quaner\n",
      "Depoitre\n",
      "Mounie\n",
      "Kachunga\n",
      "Vardy\n",
      "Okazaki\n",
      "Iheanacho\n",
      "Firmino\n",
      "Solanke\n",
      "Sturridge\n",
      "Origi\n",
      "Agüero\n",
      "Jesus\n",
      "Rashford\n",
      "Lukaku\n",
      "Gayle\n",
      "Pérez\n",
      "Joselu\n",
      "Muto\n",
      "Rondón\n",
      "Ings\n",
      "Long\n",
      "Austin\n",
      "Gabbiadini\n",
      "Carrillo\n",
      "Obafemi\n",
      "Llorente\n",
      "Kane\n",
      "Gray\n",
      "Deeney\n",
      "Okaka\n",
      "Sinclair\n",
      "Success\n",
      "Peñaranda\n",
      "Arnautovic\n",
      "Carroll\n",
      "Chicharito\n",
      "Hugill\n",
      "Lucas\n",
      "Xande Silva\n",
      "Jiménez\n",
      "Bonatini\n",
      "Mir\n"
     ]
    }
   ],
   "source": [
    "for i, player in enumerate(fpl_data['elements']):\n",
    "    if fpl_data['elements'][i]['element_type'] == 4:   #4 = position: striker\n",
    "        print(fpl_data['elements'][i]['web_name'])"
   ]
  }
 ],
 "metadata": {
  "kernelspec": {
   "display_name": "Python 3",
   "language": "python",
   "name": "python3"
  },
  "language_info": {
   "codemirror_mode": {
    "name": "ipython",
    "version": 3
   },
   "file_extension": ".py",
   "mimetype": "text/x-python",
   "name": "python",
   "nbconvert_exporter": "python",
   "pygments_lexer": "ipython3",
   "version": "3.7.1"
  }
 },
 "nbformat": 4,
 "nbformat_minor": 2
}
